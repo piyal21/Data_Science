{
 "cells": [
  {
   "cell_type": "code",
   "execution_count": 1,
   "metadata": {},
   "outputs": [
    {
     "name": "stdout",
     "output_type": "stream",
     "text": [
      "('piyal', 200)\n",
      "('shakir', 400)\n",
      "('robin', 300)\n",
      "('mahir', 550)\n"
     ]
    }
   ],
   "source": [
    "player_price = [('piyal',200),('shakir',400),('robin',300),('mahir',550)]\n",
    "\n",
    "\n",
    "for item in player_price:\n",
    "    print(item)"
   ]
  },
  {
   "cell_type": "code",
   "execution_count": 2,
   "metadata": {},
   "outputs": [
    {
     "name": "stdout",
     "output_type": "stream",
     "text": [
      "piyal\n",
      "shakir\n",
      "robin\n",
      "mahir\n"
     ]
    }
   ],
   "source": [
    "for k1,k2 in player_price:\n",
    "    print(k1)"
   ]
  },
  {
   "cell_type": "code",
   "execution_count": 3,
   "metadata": {},
   "outputs": [
    {
     "name": "stdout",
     "output_type": "stream",
     "text": [
      "200\n",
      "400\n",
      "300\n",
      "550\n"
     ]
    }
   ],
   "source": [
    "for k1,k2 in player_price:\n",
    "    print(k2)"
   ]
  },
  {
   "cell_type": "code",
   "execution_count": 5,
   "metadata": {},
   "outputs": [
    {
     "data": {
      "text/plain": [
       "('shakir', 200)"
      ]
     },
     "execution_count": 5,
     "metadata": {},
     "output_type": "execute_result"
    }
   ],
   "source": [
    "name_hour = [('piyal',100),('shakir',200),('mahir',150)]\n",
    "\n",
    "def employee_check(name_hour):\n",
    "    max=0\n",
    "    employee_of_month=' '\n",
    "    \n",
    "    \n",
    "    for name,hour in name_hour:\n",
    "        if hour > max:\n",
    "            max=hour\n",
    "            employee_of_month=name\n",
    "        else:\n",
    "            pass\n",
    "    \n",
    "    return (employee_of_month,max) \n",
    "\n",
    "employee_check(name_hour)       "
   ]
  },
  {
   "cell_type": "code",
   "execution_count": 6,
   "metadata": {},
   "outputs": [],
   "source": [
    "e1 = [1,2,4,45,52,4,1232,42,124,53,52,23,56,23425,552]"
   ]
  },
  {
   "cell_type": "code",
   "execution_count": 7,
   "metadata": {},
   "outputs": [],
   "source": [
    "from random import shuffle"
   ]
  },
  {
   "cell_type": "code",
   "execution_count": 8,
   "metadata": {},
   "outputs": [],
   "source": [
    "shuffle(e1)"
   ]
  },
  {
   "cell_type": "code",
   "execution_count": 9,
   "metadata": {},
   "outputs": [
    {
     "name": "stdout",
     "output_type": "stream",
     "text": [
      "[23, 52, 42, 4, 23425, 53, 4, 124, 56, 2, 52, 45, 1232, 1, 552]\n"
     ]
    }
   ],
   "source": [
    "print(e1)"
   ]
  },
  {
   "cell_type": "code",
   "execution_count": 10,
   "metadata": {},
   "outputs": [
    {
     "name": "stdout",
     "output_type": "stream",
     "text": [
      "[23, 52, 42, 4, 23425, 53, 4, 124, 56, 2, 52, 45, 1232, 1, 552]\n"
     ]
    }
   ],
   "source": [
    "print(e1)"
   ]
  },
  {
   "cell_type": "code",
   "execution_count": 11,
   "metadata": {},
   "outputs": [
    {
     "name": "stdout",
     "output_type": "stream",
     "text": [
      "[23425, 52, 1, 23, 552, 56, 42, 45, 124, 4, 52, 1232, 4, 53, 2]\n"
     ]
    }
   ],
   "source": [
    "shuffle(e1)\n",
    "print(e1)"
   ]
  },
  {
   "attachments": {},
   "cell_type": "markdown",
   "metadata": {},
   "source": [
    "*ARGS   & **KWARGS"
   ]
  },
  {
   "cell_type": "code",
   "execution_count": 12,
   "metadata": {},
   "outputs": [
    {
     "name": "stdout",
     "output_type": "stream",
     "text": [
      "3\n"
     ]
    }
   ],
   "source": [
    "def add_two_numbers(a,b):\n",
    "    return(a+b)\n",
    "\n",
    "\n",
    "k = add_two_numbers(1,2)\n",
    "print(k)"
   ]
  },
  {
   "cell_type": "code",
   "execution_count": 13,
   "metadata": {},
   "outputs": [
    {
     "name": "stdout",
     "output_type": "stream",
     "text": [
      "55\n"
     ]
    }
   ],
   "source": [
    "def add_more(*args):\n",
    "    return sum(args)\n",
    "\n",
    "k= add_more(1,2,3,4,5,6,7,8,9,10)\n",
    "\n",
    "print(k)"
   ]
  },
  {
   "cell_type": "code",
   "execution_count": 19,
   "metadata": {},
   "outputs": [
    {
     "name": "stdout",
     "output_type": "stream",
     "text": [
      "(10, 20, 30)\n",
      "{'fruit': 'orange', 'food': 'eggs', 'animal': 'dog'}\n",
      "I would like 10 eggs\n"
     ]
    }
   ],
   "source": [
    "def myfunc(*args,**kwargs):\n",
    "    \n",
    "    print(args)\n",
    "    print(kwargs)\n",
    "    print('I would like {} {}'.format(args[0],kwargs['food']))\n",
    "    \n",
    "    \n",
    "myfunc(10,20,30, fruit='orange', food ='eggs', animal='dog')"
   ]
  },
  {
   "cell_type": "code",
   "execution_count": null,
   "metadata": {},
   "outputs": [],
   "source": []
  }
 ],
 "metadata": {
  "kernelspec": {
   "display_name": "base",
   "language": "python",
   "name": "python3"
  },
  "language_info": {
   "codemirror_mode": {
    "name": "ipython",
    "version": 3
   },
   "file_extension": ".py",
   "mimetype": "text/x-python",
   "name": "python",
   "nbconvert_exporter": "python",
   "pygments_lexer": "ipython3",
   "version": "3.9.12"
  },
  "orig_nbformat": 4,
  "vscode": {
   "interpreter": {
    "hash": "f08154012ddadd8e950e6e9e035c7a7b32c136e7647e9b7c77e02eb723a8bedb"
   }
  }
 },
 "nbformat": 4,
 "nbformat_minor": 2
}
