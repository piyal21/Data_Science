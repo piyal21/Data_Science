{
 "cells": [
  {
   "cell_type": "code",
   "execution_count": null,
   "metadata": {},
   "outputs": [],
   "source": []
  },
  {
   "attachments": {},
   "cell_type": "markdown",
   "metadata": {},
   "source": [
    "Creating Functions to do MATH"
   ]
  },
  {
   "cell_type": "code",
   "execution_count": 22,
   "metadata": {},
   "outputs": [
    {
     "data": {
      "text/plain": [
       "True"
      ]
     },
     "execution_count": 22,
     "metadata": {},
     "output_type": "execute_result"
    }
   ],
   "source": [
    "#Calclulating the factors of an integer . \n",
    "\n",
    "def __is_factor__(a,b):\n",
    "    if(b % a == 0):\n",
    "        return True\n",
    "    else:\n",
    "        return False \n",
    "    \n",
    "__is_factor__(2,100)"
   ]
  },
  {
   "cell_type": "code",
   "execution_count": null,
   "metadata": {},
   "outputs": [],
   "source": []
  },
  {
   "attachments": {},
   "cell_type": "markdown",
   "metadata": {},
   "source": [
    "Range Function "
   ]
  },
  {
   "cell_type": "code",
   "execution_count": 23,
   "metadata": {},
   "outputs": [
    {
     "name": "stdout",
     "output_type": "stream",
     "text": [
      "1\n",
      "2\n",
      "3\n"
     ]
    }
   ],
   "source": [
    "for i in range(1,4):\n",
    "    print(i)"
   ]
  },
  {
   "cell_type": "code",
   "execution_count": 24,
   "metadata": {},
   "outputs": [
    {
     "name": "stdout",
     "output_type": "stream",
     "text": [
      "0\n",
      "1\n",
      "2\n",
      "3\n",
      "4\n"
     ]
    }
   ],
   "source": [
    "for i in range(5):\n",
    "    print(i)"
   ]
  },
  {
   "cell_type": "code",
   "execution_count": 25,
   "metadata": {},
   "outputs": [
    {
     "name": "stdout",
     "output_type": "stream",
     "text": [
      "0\n",
      "2\n",
      "4\n",
      "6\n",
      "8\n"
     ]
    }
   ],
   "source": [
    "for i in range(0,10,2):\n",
    "    print(i)\n",
    "    #all even numbers form 0 -> 10"
   ]
  },
  {
   "cell_type": "code",
   "execution_count": 26,
   "metadata": {},
   "outputs": [
    {
     "name": "stdout",
     "output_type": "stream",
     "text": [
      "1\n",
      "3\n",
      "5\n",
      "7\n",
      "9\n"
     ]
    }
   ],
   "source": [
    "for i in range(1,10,2):\n",
    "    print(i)\n",
    "    #all odd numbers from 0 -> 10"
   ]
  },
  {
   "cell_type": "code",
   "execution_count": 27,
   "metadata": {},
   "outputs": [
    {
     "name": "stdout",
     "output_type": "stream",
     "text": [
      "1\n",
      "2\n",
      "3\n",
      "4\n",
      "6\n",
      "12\n"
     ]
    }
   ],
   "source": [
    "# creating a  function to find  all the factors within   1 -> n\n",
    "\n",
    "def __factor__(b):\n",
    "    \n",
    "    for i in range(1,b+1):\n",
    "        if b % i == 0:\n",
    "            print(i)\n",
    "            \n",
    "            \n",
    "            \n",
    "if __name__ == '__main__':\n",
    "    b = input(\"Enter a Number: \")  # here user input is a  STRING \n",
    "    b = float(b)                     # converting it into a INTEGER \n",
    "  \n",
    "    if b > 0 and b.is_integer():\n",
    "        __factor__(int(b))\n",
    "    else:\n",
    "        print(\"Please enter a positive integer.\")"
   ]
  },
  {
   "cell_type": "code",
   "execution_count": 28,
   "metadata": {},
   "outputs": [
    {
     "data": {
      "text/plain": [
       "False"
      ]
     },
     "execution_count": 28,
     "metadata": {},
     "output_type": "execute_result"
    }
   ],
   "source": [
    "k = 14144.232131\n",
    "k.is_integer()"
   ]
  },
  {
   "cell_type": "code",
   "execution_count": 29,
   "metadata": {},
   "outputs": [
    {
     "data": {
      "text/plain": [
       "14144"
      ]
     },
     "execution_count": 29,
     "metadata": {},
     "output_type": "execute_result"
    }
   ],
   "source": [
    "int(k)\n"
   ]
  },
  {
   "cell_type": "code",
   "execution_count": null,
   "metadata": {},
   "outputs": [],
   "source": []
  },
  {
   "attachments": {},
   "cell_type": "markdown",
   "metadata": {},
   "source": [
    "Generating Multiplication Table "
   ]
  },
  {
   "cell_type": "code",
   "execution_count": 30,
   "metadata": {},
   "outputs": [
    {
     "name": "stdout",
     "output_type": "stream",
     "text": [
      "I went to the grocery store and bought some apples and bananas and grapes\n"
     ]
    }
   ],
   "source": [
    "#using the .format method\n",
    "\n",
    "item1= 'apples'\n",
    "item2= 'bananas'\n",
    "item3= 'grapes'\n",
    "\n",
    "print(\"I went to the grocery store and bought some {0} and {1} and {2}\".format(item1,item2,item3))"
   ]
  },
  {
   "cell_type": "code",
   "execution_count": 31,
   "metadata": {},
   "outputs": [
    {
     "name": "stdout",
     "output_type": "stream",
     "text": [
      "Number 01: 1 and Number 02: 222312\n"
     ]
    }
   ],
   "source": [
    "print('Number 01: {0} and Number 02: {1}'.format(1,222312))"
   ]
  },
  {
   "cell_type": "code",
   "execution_count": 32,
   "metadata": {},
   "outputs": [
    {
     "name": "stdout",
     "output_type": "stream",
     "text": [
      "1 x 1 = 1\n",
      "1 x 2 = 2\n",
      "1 x 3 = 3\n",
      "1 x 4 = 4\n",
      "1 x 5 = 5\n",
      "1 x 6 = 6\n",
      "1 x 7 = 7\n",
      "1 x 8 = 8\n",
      "1 x 9 = 9\n",
      "1 x 10 = 10\n"
     ]
    }
   ],
   "source": [
    "#Multiplication table of 8 \n",
    "\n",
    "def __multiplication_table__(a):\n",
    "    \n",
    "    for i in range(1,11):\n",
    "        print('{0} x {1} = {2}'.format(a,i, a*i))\n",
    "        \n",
    "\n",
    "if __name__ == '__main__':\n",
    "    a = input(\"Enter a number: \")\n",
    "    __multiplication_table__(int(a))"
   ]
  },
  {
   "cell_type": "code",
   "execution_count": null,
   "metadata": {},
   "outputs": [],
   "source": []
  },
  {
   "attachments": {},
   "cell_type": "markdown",
   "metadata": {},
   "source": [
    "Quadratic Equation Formula"
   ]
  },
  {
   "cell_type": "code",
   "execution_count": 33,
   "metadata": {},
   "outputs": [
    {
     "name": "stdout",
     "output_type": "stream",
     "text": [
      "{'X_1 :(-0.24999999999999986+2.436698586202241j)'}\n",
      "{'X_2 :(-0.25000000000000017-2.436698586202241j)'}\n"
     ]
    }
   ],
   "source": [
    "def __roots__(a,b,c):\n",
    "    d= (b*b-4*a*c)**0.5\n",
    "    \n",
    "    x_1 = (-b+d)/(2*a)\n",
    "    x_2 = (-b-d)/(2*a)\n",
    "    \n",
    "    print({\"X_1 :{0}\".format(x_1)})\n",
    "    print({\"X_2 :{0}\".format(x_2)})\n",
    "    \n",
    "    \n",
    "if __name__ == '__main__':\n",
    "    a= input('Enter a: ')\n",
    "    b= input('Enter b:')\n",
    "    c = input('Enter c:')\n",
    "    \n",
    "    __roots__(float(a),float(b),float(c))"
   ]
  },
  {
   "cell_type": "code",
   "execution_count": 35,
   "metadata": {},
   "outputs": [
    {
     "name": "stdout",
     "output_type": "stream",
     "text": [
      "Even\n",
      "12\n",
      "\n",
      "14\n",
      "\n",
      "16\n",
      "\n",
      "18\n",
      "\n",
      "20\n",
      "\n"
     ]
    }
   ],
   "source": [
    "#even odd generator\n",
    "\n",
    "def __even__(n):\n",
    "        for i in range (n,20+1):\n",
    "            if i % 2 == 0:\n",
    "                print(i)\n",
    "                print()\n",
    "                \n",
    "def __odd__(n):\n",
    "    for i in range(n,20+1):\n",
    "        if i % 2 != 0:\n",
    "            print(i)\n",
    "            print()\n",
    "            \n",
    "if __name__ == '__main__':\n",
    "    a = input('Enter a number: ')\n",
    "    a = int(a)\n",
    "    \n",
    "    if a == 0:\n",
    "        print(\"Enter number other than Zero\")\n",
    "    elif a % 2 == 0:\n",
    "        print('Even')\n",
    "        __even__(a)\n",
    "    else:\n",
    "        print('Odd')\n",
    "        __odd__(a)"
   ]
  },
  {
   "cell_type": "code",
   "execution_count": null,
   "metadata": {},
   "outputs": [],
   "source": []
  }
 ],
 "metadata": {
  "kernelspec": {
   "display_name": "base",
   "language": "python",
   "name": "python3"
  },
  "language_info": {
   "codemirror_mode": {
    "name": "ipython",
    "version": 3
   },
   "file_extension": ".py",
   "mimetype": "text/x-python",
   "name": "python",
   "nbconvert_exporter": "python",
   "pygments_lexer": "ipython3",
   "version": "3.9.12 (main, Apr  4 2022, 05:22:27) [MSC v.1916 64 bit (AMD64)]"
  },
  "orig_nbformat": 4,
  "vscode": {
   "interpreter": {
    "hash": "f08154012ddadd8e950e6e9e035c7a7b32c136e7647e9b7c77e02eb723a8bedb"
   }
  }
 },
 "nbformat": 4,
 "nbformat_minor": 2
}
