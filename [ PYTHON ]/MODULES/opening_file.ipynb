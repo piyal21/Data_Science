{
 "cells": [
  {
   "cell_type": "code",
   "execution_count": 1,
   "metadata": {},
   "outputs": [
    {
     "data": {
      "text/plain": [
       "'e:\\\\[ PYTHON ]\\\\MODULES'"
      ]
     },
     "execution_count": 1,
     "metadata": {},
     "output_type": "execute_result"
    }
   ],
   "source": [
    "pwd"
   ]
  },
  {
   "cell_type": "code",
   "execution_count": 2,
   "metadata": {},
   "outputs": [],
   "source": [
    "f= open('practice1.txt','w+')\n",
    "f.write('this is a test string')\n",
    "f.close()"
   ]
  },
  {
   "cell_type": "code",
   "execution_count": 3,
   "metadata": {},
   "outputs": [],
   "source": [
    " import os"
   ]
  },
  {
   "cell_type": "code",
   "execution_count": 4,
   "metadata": {},
   "outputs": [
    {
     "data": {
      "text/plain": [
       "'e:\\\\[ PYTHON ]\\\\MODULES'"
      ]
     },
     "execution_count": 4,
     "metadata": {},
     "output_type": "execute_result"
    }
   ],
   "source": [
    "os.getcwd()\n",
    "#will show the currenct working directory"
   ]
  },
  {
   "cell_type": "code",
   "execution_count": 5,
   "metadata": {},
   "outputs": [
    {
     "data": {
      "text/plain": [
       "['cpp_array.cpp',\n",
       " 'Grokking Algorithms ( PDFDrive ).pdf',\n",
       " 'Grokking Deep Learning ( PDFDrive ).pdf',\n",
       " 'lecture_01.ipynb',\n",
       " 'mathematics_for_machine_learning.pdf',\n",
       " 'opening_file.ipynb',\n",
       " 'PracticalStatisticsforDataScientists50EssentialConceptsUsingRandPythonbyPeterBruceAndrewBrucePeterGedeck.pdf',\n",
       " 'practice.txt',\n",
       " 'practice1.txt',\n",
       " 'thinkpython.pdf']"
      ]
     },
     "execution_count": 5,
     "metadata": {},
     "output_type": "execute_result"
    }
   ],
   "source": [
    "os.listdir()\n",
    "#will list all the files in the current directory "
   ]
  },
  {
   "cell_type": "code",
   "execution_count": 23,
   "metadata": {},
   "outputs": [
    {
     "data": {
      "text/plain": [
       "['.vscode',\n",
       " 'CP_CF_PRACTICE',\n",
       " 'FUNCTION',\n",
       " 'IO',\n",
       " 'LIST',\n",
       " 'LOOPS',\n",
       " 'MODULES',\n",
       " 'NUMPY',\n",
       " 'OOP PYTHON',\n",
       " 'Statements',\n",
       " 'STRING',\n",
       " 'tax.py',\n",
       " 'Variable.py',\n",
       " 'VARIABLES']"
      ]
     },
     "execution_count": 23,
     "metadata": {},
     "output_type": "execute_result"
    }
   ],
   "source": [
    "os.listdir('e:\\\\[ PYTHON ]')"
   ]
  },
  {
   "cell_type": "code",
   "execution_count": 7,
   "metadata": {},
   "outputs": [],
   "source": [
    "import shutil"
   ]
  },
  {
   "cell_type": "code",
   "execution_count": 8,
   "metadata": {},
   "outputs": [
    {
     "data": {
      "text/plain": [
       "'e:\\\\[ PYTHON ]\\\\practice.txt'"
      ]
     },
     "execution_count": 8,
     "metadata": {},
     "output_type": "execute_result"
    }
   ],
   "source": [
    "shutil.move('practice.txt','e:\\\\[ PYTHON ]')"
   ]
  },
  {
   "cell_type": "code",
   "execution_count": 9,
   "metadata": {},
   "outputs": [
    {
     "data": {
      "text/plain": [
       "['.vscode',\n",
       " 'CP_CF_PRACTICE',\n",
       " 'FUNCTION',\n",
       " 'IO',\n",
       " 'LIST',\n",
       " 'LOOPS',\n",
       " 'MODULES',\n",
       " 'NUMPY',\n",
       " 'OOP PYTHON',\n",
       " 'practice.txt',\n",
       " 'Statements',\n",
       " 'STRING',\n",
       " 'tax.py',\n",
       " 'Variable.py',\n",
       " 'VARIABLES']"
      ]
     },
     "execution_count": 9,
     "metadata": {},
     "output_type": "execute_result"
    }
   ],
   "source": [
    "os.listdir('e:\\\\[ PYTHON ]')\n"
   ]
  },
  {
   "cell_type": "code",
   "execution_count": 10,
   "metadata": {},
   "outputs": [],
   "source": [
    "import send2trash"
   ]
  },
  {
   "cell_type": "code",
   "execution_count": 11,
   "metadata": {},
   "outputs": [
    {
     "data": {
      "text/plain": [
       "['cpp_array.cpp',\n",
       " 'Grokking Algorithms ( PDFDrive ).pdf',\n",
       " 'Grokking Deep Learning ( PDFDrive ).pdf',\n",
       " 'lecture_01.ipynb',\n",
       " 'mathematics_for_machine_learning.pdf',\n",
       " 'opening_file.ipynb',\n",
       " 'PracticalStatisticsforDataScientists50EssentialConceptsUsingRandPythonbyPeterBruceAndrewBrucePeterGedeck.pdf',\n",
       " 'practice.txt',\n",
       " 'practice1.txt',\n",
       " 'thinkpython.pdf']"
      ]
     },
     "execution_count": 11,
     "metadata": {},
     "output_type": "execute_result"
    }
   ],
   "source": [
    "os.listdir()"
   ]
  },
  {
   "cell_type": "code",
   "execution_count": 12,
   "metadata": {},
   "outputs": [
    {
     "data": {
      "text/plain": [
       "'e:\\\\[ PYTHON ]\\\\MODULES\\\\practice.txt'"
      ]
     },
     "execution_count": 12,
     "metadata": {},
     "output_type": "execute_result"
    }
   ],
   "source": [
    "shutil.move('e:\\\\[ PYTHON ]\\\\practice.txt',os.getcwd())"
   ]
  },
  {
   "cell_type": "code",
   "execution_count": 13,
   "metadata": {},
   "outputs": [
    {
     "data": {
      "text/plain": [
       "['cpp_array.cpp',\n",
       " 'Grokking Algorithms ( PDFDrive ).pdf',\n",
       " 'Grokking Deep Learning ( PDFDrive ).pdf',\n",
       " 'lecture_01.ipynb',\n",
       " 'mathematics_for_machine_learning.pdf',\n",
       " 'opening_file.ipynb',\n",
       " 'PracticalStatisticsforDataScientists50EssentialConceptsUsingRandPythonbyPeterBruceAndrewBrucePeterGedeck.pdf',\n",
       " 'practice.txt',\n",
       " 'practice1.txt',\n",
       " 'thinkpython.pdf']"
      ]
     },
     "execution_count": 13,
     "metadata": {},
     "output_type": "execute_result"
    }
   ],
   "source": [
    "os.listdir()"
   ]
  },
  {
   "cell_type": "code",
   "execution_count": 14,
   "metadata": {},
   "outputs": [],
   "source": [
    "send2trash.send2trash('practice.txt')"
   ]
  },
  {
   "cell_type": "code",
   "execution_count": 15,
   "metadata": {},
   "outputs": [
    {
     "data": {
      "text/plain": [
       "['cpp_array.cpp',\n",
       " 'Grokking Algorithms ( PDFDrive ).pdf',\n",
       " 'Grokking Deep Learning ( PDFDrive ).pdf',\n",
       " 'lecture_01.ipynb',\n",
       " 'mathematics_for_machine_learning.pdf',\n",
       " 'opening_file.ipynb',\n",
       " 'PracticalStatisticsforDataScientists50EssentialConceptsUsingRandPythonbyPeterBruceAndrewBrucePeterGedeck.pdf',\n",
       " 'practice1.txt',\n",
       " 'thinkpython.pdf']"
      ]
     },
     "execution_count": 15,
     "metadata": {},
     "output_type": "execute_result"
    }
   ],
   "source": [
    "os.listdir()"
   ]
  },
  {
   "cell_type": "code",
   "execution_count": 16,
   "metadata": {},
   "outputs": [
    {
     "data": {
      "text/plain": [
       "'e:\\\\[ PYTHON ]\\\\MODULES'"
      ]
     },
     "execution_count": 16,
     "metadata": {},
     "output_type": "execute_result"
    }
   ],
   "source": [
    "os.getcwd()"
   ]
  },
  {
   "cell_type": "code",
   "execution_count": 24,
   "metadata": {},
   "outputs": [],
   "source": [
    "file_path='e:\\\\[ PYTHON ]\\\\MODULES\\\\Eample_top_level_folder'\n"
   ]
  },
  {
   "cell_type": "code",
   "execution_count": 26,
   "metadata": {},
   "outputs": [
    {
     "name": "stdout",
     "output_type": "stream",
     "text": [
      "Currently looking at e:\\[ PYTHON ]\\MODULES\n",
      "\n",
      "\n",
      "The sub_forders are: \n",
      "\t Subfolder: Python Modules\n",
      "\n",
      "\n",
      "The files are : \n",
      "\t File:lecture_01.ipynb\n",
      "\t File:opening_file.ipynb\n",
      "\n",
      "\n",
      "Currently looking at e:\\[ PYTHON ]\\MODULES\\Python Modules\n",
      "\n",
      "\n",
      "The sub_forders are: \n",
      "\t Subfolder: Example_top_level_folder\n",
      "\n",
      "\n",
      "The files are : \n",
      "\n",
      "\n",
      "Currently looking at e:\\[ PYTHON ]\\MODULES\\Python Modules\\Example_top_level_folder\n",
      "\n",
      "\n",
      "The sub_forders are: \n",
      "\t Subfolder: Mid Example ONE\n",
      "\t Subfolder: Mid Example TWO\n",
      "\n",
      "\n",
      "The files are : \n",
      "\t File:midexample.txt\n",
      "\n",
      "\n",
      "Currently looking at e:\\[ PYTHON ]\\MODULES\\Python Modules\\Example_top_level_folder\\Mid Example ONE\n",
      "\n",
      "\n",
      "The sub_forders are: \n",
      "\t Subfolder: Bottom_level_one\n",
      "\t Subfolder: Bottom_level_two\n",
      "\n",
      "\n",
      "The files are : \n",
      "\t File:mid_level_doc.txt\n",
      "\n",
      "\n",
      "Currently looking at e:\\[ PYTHON ]\\MODULES\\Python Modules\\Example_top_level_folder\\Mid Example ONE\\Bottom_level_one\n",
      "\n",
      "\n",
      "The sub_forders are: \n",
      "\n",
      "\n",
      "The files are : \n",
      "\t File:one_text.txt\n",
      "\n",
      "\n",
      "Currently looking at e:\\[ PYTHON ]\\MODULES\\Python Modules\\Example_top_level_folder\\Mid Example ONE\\Bottom_level_two\n",
      "\n",
      "\n",
      "The sub_forders are: \n",
      "\n",
      "\n",
      "The files are : \n",
      "\t File:bottom_text_two.txt\n",
      "\n",
      "\n",
      "Currently looking at e:\\[ PYTHON ]\\MODULES\\Python Modules\\Example_top_level_folder\\Mid Example TWO\n",
      "\n",
      "\n",
      "The sub_forders are: \n",
      "\n",
      "\n",
      "The files are : \n",
      "\n",
      "\n"
     ]
    }
   ],
   "source": [
    "for folders,sub_folders, files in os.walk(os.getcwd()):\n",
    "    print(f\"Currently looking at {folders}\")\n",
    "    print('\\n')\n",
    "    print('The sub_forders are: ')\n",
    "    \n",
    "    for sub_fold in sub_folders:\n",
    "        print(f\"\\t Subfolder: {sub_fold}\")\n",
    "        \n",
    "    print('\\n')\n",
    "    \n",
    "    print(\"The files are : \")\n",
    "    for f in files:\n",
    "        print(f\"\\t File:{f}\")\n",
    "        \n",
    "    print('\\n')\n",
    "        "
   ]
  },
  {
   "cell_type": "code",
   "execution_count": null,
   "metadata": {},
   "outputs": [],
   "source": []
  }
 ],
 "metadata": {
  "kernelspec": {
   "display_name": "base",
   "language": "python",
   "name": "python3"
  },
  "language_info": {
   "codemirror_mode": {
    "name": "ipython",
    "version": 3
   },
   "file_extension": ".py",
   "mimetype": "text/x-python",
   "name": "python",
   "nbconvert_exporter": "python",
   "pygments_lexer": "ipython3",
   "version": "3.9.12 (main, Apr  4 2022, 05:22:27) [MSC v.1916 64 bit (AMD64)]"
  },
  "orig_nbformat": 4,
  "vscode": {
   "interpreter": {
    "hash": "f08154012ddadd8e950e6e9e035c7a7b32c136e7647e9b7c77e02eb723a8bedb"
   }
  }
 },
 "nbformat": 4,
 "nbformat_minor": 2
}
