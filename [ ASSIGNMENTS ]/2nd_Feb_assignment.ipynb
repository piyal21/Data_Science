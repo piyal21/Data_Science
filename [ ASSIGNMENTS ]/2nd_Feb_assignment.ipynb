{
 "cells": [
  {
   "attachments": {},
   "cell_type": "markdown",
   "metadata": {},
   "source": [
    "<hello>"
   ]
  },
  {
   "attachments": {},
   "cell_type": "markdown",
   "metadata": {},
   "source": [
    "2nd February Assignment"
   ]
  },
  {
   "attachments": {},
   "cell_type": "markdown",
   "metadata": {},
   "source": [
    "Ans 01:\n",
    " For loop is used for iterable object . When I have a data with sequence like list, tuplpe , set  and I have to iterate through the list and find the specific value .\n",
    "\n",
    "    list1 = [1,2,3,4,5]\n",
    "\n",
    "    for i in list1:\n",
    "        print(i)\n",
    "\n",
    "A while loop is used when we want to repeat a block of code or statement until it meets a specific condition . As long as a certain condition is true the loop will go on and execute specific statement.\n",
    "\n",
    "    i=1\n",
    "    while i <= 5:\n",
    "        print(i)\n",
    "        i+1"
   ]
  },
  {
   "attachments": {},
   "cell_type": "markdown",
   "metadata": {},
   "source": [
    "Ans 02:\n",
    "Sum of first 10 natural numbers using FOR loop:\n",
    "\n",
    "    sum =0\n",
    "    for i in range(10+1):\n",
    "        sum += i\n",
    "    print(sum)\n",
    "\n",
    "Sum of 10 natural numbers using While loop:\n",
    "\n",
    "    sum=0\n",
    "    i=1\n",
    "\n",
    "    while i<=10:\n",
    "        sum += i\n",
    "         i += 1\n",
    "    print(sum)"
   ]
  },
  {
   "cell_type": "code",
   "execution_count": 2,
   "metadata": {},
   "outputs": [
    {
     "name": "stdout",
     "output_type": "stream",
     "text": [
      "2250.0\n"
     ]
    }
   ],
   "source": [
    "#ANS 03 ->\n",
    "\n",
    "units= int(input(\"Enter the units: \"))\n",
    "\n",
    "bill= 0\n",
    "\n",
    "\n",
    "if units <= 100:\n",
    "    bill = units* 4.5\n",
    "elif units<= 200:\n",
    "    bill = 100 * 4.5 + (units - 100) * 6\n",
    "elif units <= 300:\n",
    "    bill = 100 * 4.5 + 100 * 6 + (units - 200) * 10\n",
    "else:\n",
    "    bill = 100 * 4.5 + 100 * 6 + 100 * 10 + (units - 300) * 20\n",
    "\n",
    "print( bill)"
   ]
  },
  {
   "cell_type": "code",
   "execution_count": null,
   "metadata": {},
   "outputs": [],
   "source": [
    "#ANS 4 ->\n",
    "\n",
    "#using FOR loop ->\n",
    "\n",
    "list01 = []\n",
    "list_cube = []\n",
    "list_divisible=[]\n",
    "\n",
    "for i in range(1,100+1):\n",
    "    list01.append(i)\n",
    "\n",
    "print(list01)\n",
    "print()\n",
    "print()\n",
    "\n",
    "for i in list01:\n",
    "    list_cube.append(pow(i,3))\n",
    "    \n",
    "print(list_cube)\n",
    "print()\n",
    "print()\n",
    "\n",
    "for i in list_cube:\n",
    "    if i%4==0 or i%5==0:\n",
    "        list_divisible.append(i)\n",
    "        \n",
    "        \n",
    "print(list_divisible)\n",
    "\n",
    "\n",
    "\n",
    "#using While loop ->\n",
    "\n",
    "\n",
    "list01 = []\n",
    "list_cube = []\n",
    "list_divisible=[]\n",
    "\n",
    "for i in range(1,100+1):\n",
    "    list01.append(i)\n",
    "\n",
    "print(list01)\n",
    "print()\n",
    "print()\n",
    "\n",
    "j=0\n",
    "while j < len(list01):\n",
    "    list_cube.append(pow(j,3))\n",
    "    j+1\n",
    "    \n",
    "print(list_cube)\n",
    "print()\n",
    "print()\n",
    "\n",
    "for i in list_cube:\n",
    "    if i%4==0 or i%5==0:\n",
    "        list_divisible.append(i)\n",
    "        \n",
    "        \n",
    "print(list_divisible)\n",
    "\n"
   ]
  },
  {
   "cell_type": "code",
   "execution_count": 1,
   "metadata": {},
   "outputs": [
    {
     "name": "stdout",
     "output_type": "stream",
     "text": [
      "12\n"
     ]
    }
   ],
   "source": [
    "#ANS 05 ->\n",
    "\n",
    "p = 'I want to become a data scientist'\n",
    "\n",
    "count = 0\n",
    "\n",
    "for i in p:\n",
    "    if i=='a' or i=='e' or i=='i' or i=='o' or i=='u' or i=='I':\n",
    "        count +=1\n",
    "        \n",
    "print(count)"
   ]
  },
  {
   "cell_type": "code",
   "execution_count": null,
   "metadata": {},
   "outputs": [],
   "source": []
  }
 ],
 "metadata": {
  "kernelspec": {
   "display_name": "base",
   "language": "python",
   "name": "python3"
  },
  "language_info": {
   "codemirror_mode": {
    "name": "ipython",
    "version": 3
   },
   "file_extension": ".py",
   "mimetype": "text/x-python",
   "name": "python",
   "nbconvert_exporter": "python",
   "pygments_lexer": "ipython3",
   "version": "3.9.12"
  },
  "orig_nbformat": 4,
  "vscode": {
   "interpreter": {
    "hash": "f08154012ddadd8e950e6e9e035c7a7b32c136e7647e9b7c77e02eb723a8bedb"
   }
  }
 },
 "nbformat": 4,
 "nbformat_minor": 2
}
