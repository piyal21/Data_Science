{
 "cells": [
  {
   "attachments": {},
   "cell_type": "markdown",
   "metadata": {},
   "source": [
    "# | Data Interpolation |"
   ]
  },
  {
   "attachments": {},
   "cell_type": "markdown",
   "metadata": {
    "vscode": {
     "languageId": "plaintext"
    }
   },
   "source": [
    "**1.Linear Interpolation**"
   ]
  },
  {
   "cell_type": "code",
   "execution_count": 1,
   "metadata": {},
   "outputs": [],
   "source": [
    "import numpy as np\n",
    "import pandas as pd \n",
    "import seaborn as sb\n",
    "import matplotlib.pyplot as plt "
   ]
  },
  {
   "cell_type": "code",
   "execution_count": 2,
   "metadata": {},
   "outputs": [],
   "source": [
    "x= np.array([1,2,3,4,5])\n",
    "y = np.array([2,4,6,8,10])\n"
   ]
  },
  {
   "cell_type": "code",
   "execution_count": 3,
   "metadata": {},
   "outputs": [
    {
     "data": {
      "text/plain": [
       "<matplotlib.collections.PathCollection at 0x2141631c280>"
      ]
     },
     "execution_count": 3,
     "metadata": {},
     "output_type": "execute_result"
    },
    {
     "data": {
      "image/png": "[encoded data removed]",
      "text/plain": [
       "<Figure size 432x288 with 1 Axes>"
      ]
     },
     "metadata": {
      "needs_background": "light"
     },
     "output_type": "display_data"
    }
   ],
   "source": [
    "plt.scatter(x,y)"
   ]
  },
  {
   "attachments": {},
   "cell_type": "markdown",
   "metadata": {
    "vscode": {
     "languageId": "plaintext"
    }
   },
   "source": [
    "**Now creating more data points between these data points. Using the interpolation technique , which is linear interpolation**"
   ]
  },
  {
   "cell_type": "code",
   "execution_count": 4,
   "metadata": {},
   "outputs": [
    {
     "name": "stdout",
     "output_type": "stream",
     "text": [
      "[ 2.          2.88888889  3.77777778  4.66666667  5.55555556  6.44444444\n",
      "  7.33333333  8.22222222  9.11111111 10.        ]\n"
     ]
    }
   ],
   "source": [
    "#Taking new x points \n",
    "x_new = np.linspace(1,5,10)\n",
    "y_interp = np.interp(x_new,x,y)   # -> interpolate Y values with previous x,y value reference.\n",
    "\n",
    "print(y_interp)"
   ]
  },
  {
   "cell_type": "code",
   "execution_count": 5,
   "metadata": {},
   "outputs": [
    {
     "data": {
      "text/plain": [
       "<matplotlib.collections.PathCollection at 0x2141642f9d0>"
      ]
     },
     "execution_count": 5,
     "metadata": {},
     "output_type": "execute_result"
    },
    {
     "data": {
      "image/png": "[encoded data removed]",
      "text/plain": [
       "<Figure size 432x288 with 1 Axes>"
      ]
     },
     "metadata": {
      "needs_background": "light"
     },
     "output_type": "display_data"
    }
   ],
   "source": [
    "plt.scatter(x_new,y_interp)"
   ]
  },
  {
   "attachments": {},
   "cell_type": "markdown",
   "metadata": {
    "vscode": {
     "languageId": "plaintext"
    }
   },
   "source": [
    "**2.Cubic Interpolation**"
   ]
  },
  {
   "cell_type": "code",
   "execution_count": 6,
   "metadata": {},
   "outputs": [],
   "source": [
    "x= np.array([1,2,3,4,5])\n",
    "y = np.array([1,8,27,64,125])"
   ]
  },
  {
   "cell_type": "code",
   "execution_count": 7,
   "metadata": {},
   "outputs": [],
   "source": [
    "# -> for interpolating we need a library \n",
    "\n",
    "\n",
    "from scipy.interpolate import interp1d"
   ]
  },
  {
   "cell_type": "code",
   "execution_count": 8,
   "metadata": {},
   "outputs": [],
   "source": [
    "# -> Cubic interplation function f1\n",
    "\n",
    "f1 = interp1d(x,y , kind='cubic')"
   ]
  },
  {
   "cell_type": "code",
   "execution_count": 9,
   "metadata": {},
   "outputs": [
    {
     "name": "stdout",
     "output_type": "stream",
     "text": [
      "[  1.           1.11418123   1.2367391    1.36797014   1.50817086\n",
      "   1.65763778   1.81666743   1.98555631   2.16460095   2.35409786\n",
      "   2.55434357   2.76563459   2.98826744   3.22253865   3.46874472\n",
      "   3.72718217   3.99814753   4.28193732   4.57884804   4.88917623\n",
      "   5.21321839   5.55127105   5.90363073   6.27059394   6.6524572\n",
      "   7.04951704   7.46206996   7.89041249   8.33484115   8.79565245\n",
      "   9.27314292   9.76760907  10.27934741  10.80865448  11.35582678\n",
      "  11.92116084  12.50495317  13.1075003   13.72909873  14.370045\n",
      "  15.03063561  15.71116709  16.41193595  17.13323872  17.8753719\n",
      "  18.63863203  19.42331562  20.22971918  21.05813924  21.90887231\n",
      "  22.78221492  23.67846357  24.5979148   25.54086511  26.50761103\n",
      "  27.49844907  28.51367576  29.5535876   30.61848113  31.70865286\n",
      "  32.8243993   33.96601698  35.13380241  36.32805211  37.54906261\n",
      "  38.79713041  40.07255204  41.37562402  42.70664286  44.06590509\n",
      "  45.45370721  46.87034576  48.31611725  49.79131819  51.2962451\n",
      "  52.83119451  54.39646294  55.99234689  57.61914289  59.27714746\n",
      "  60.96665712  62.68796838  64.44137776  66.22718179  68.04567697\n",
      "  69.89715983  71.78192689  73.70027467  75.65249967  77.63889843\n",
      "  79.65976746  81.71540328  83.80610241  85.93216136  88.09387666\n",
      "  90.29154482  92.52546236  94.79592581  97.10323167  99.44767646\n",
      " 101.82955671 104.24916894 106.70680965 109.20277538 111.73736264\n",
      " 114.31086794 116.92358781 119.57581877 122.26785732 125.        ]\n"
     ]
    }
   ],
   "source": [
    "x_new  = np.linspace(1,5,110)\n",
    "y_interp = f1(x_new)\n",
    "print(y_interp)"
   ]
  },
  {
   "cell_type": "code",
   "execution_count": 10,
   "metadata": {},
   "outputs": [
    {
     "data": {
      "text/plain": [
       "<matplotlib.collections.PathCollection at 0x214164b36a0>"
      ]
     },
     "execution_count": 10,
     "metadata": {},
     "output_type": "execute_result"
    },
    {
     "data": {
      "image/png": "[encoded data removed]",
      "text/plain": [
       "<Figure size 432x288 with 1 Axes>"
      ]
     },
     "metadata": {
      "needs_background": "light"
     },
     "output_type": "display_data"
    }
   ],
   "source": [
    "plt.scatter(x_new,y_interp)"
   ]
  },
  {
   "cell_type": "markdown",
   "metadata": {},
   "source": [
    "**3.Polynomial Interpolation**"
   ]
  },
  {
   "cell_type": "code",
   "execution_count": 11,
   "metadata": {},
   "outputs": [],
   "source": [
    "x= np.array([1,2,3,4,5])\n",
    "y = np.array([1,8,27,64,125])"
   ]
  },
  {
   "cell_type": "code",
   "execution_count": 12,
   "metadata": {},
   "outputs": [],
   "source": [
    "p =np.polyfit(x,y,4) # -> fit a 2nd degree polynomial to the data "
   ]
  },
  {
   "cell_type": "code",
   "execution_count": 13,
   "metadata": {},
   "outputs": [
    {
     "data": {
      "text/plain": [
       "array([-3.33398974e-15,  1.00000000e+00, -1.63959300e-13,  2.72099159e-13,\n",
       "       -1.62059830e-13])"
      ]
     },
     "execution_count": 13,
     "metadata": {},
     "output_type": "execute_result"
    }
   ],
   "source": [
    "p"
   ]
  },
  {
   "cell_type": "code",
   "execution_count": 14,
   "metadata": {},
   "outputs": [
    {
     "name": "stdout",
     "output_type": "stream",
     "text": [
      "[  1.           1.11418123   1.2367391    1.36797014   1.50817086\n",
      "   1.65763778   1.81666743   1.98555631   2.16460095   2.35409786\n",
      "   2.55434357   2.76563459   2.98826744   3.22253865   3.46874472\n",
      "   3.72718217   3.99814753   4.28193732   4.57884804   4.88917623\n",
      "   5.21321839   5.55127105   5.90363073   6.27059394   6.6524572\n",
      "   7.04951704   7.46206996   7.89041249   8.33484115   8.79565245\n",
      "   9.27314292   9.76760907  10.27934741  10.80865448  11.35582678\n",
      "  11.92116084  12.50495317  13.1075003   13.72909873  14.370045\n",
      "  15.03063561  15.71116709  16.41193595  17.13323872  17.8753719\n",
      "  18.63863203  19.42331562  20.22971918  21.05813924  21.90887231\n",
      "  22.78221492  23.67846357  24.5979148   25.54086511  26.50761103\n",
      "  27.49844907  28.51367576  29.5535876   30.61848113  31.70865286\n",
      "  32.8243993   33.96601698  35.13380241  36.32805211  37.54906261\n",
      "  38.79713041  40.07255204  41.37562402  42.70664286  44.06590509\n",
      "  45.45370721  46.87034576  48.31611725  49.79131819  51.2962451\n",
      "  52.83119451  54.39646294  55.99234689  57.61914289  59.27714746\n",
      "  60.96665712  62.68796838  64.44137776  66.22718179  68.04567697\n",
      "  69.89715983  71.78192689  73.70027467  75.65249967  77.63889843\n",
      "  79.65976746  81.71540328  83.80610241  85.93216136  88.09387666\n",
      "  90.29154482  92.52546236  94.79592581  97.10323167  99.44767646\n",
      " 101.82955671 104.24916894 106.70680965 109.20277538 111.73736264\n",
      " 114.31086794 116.92358781 119.57581877 122.26785732 125.        ]\n"
     ]
    }
   ],
   "source": [
    "x_new  = np.linspace(1,5,110)\n",
    "y_interp = np.polyval(p, x_new)\n",
    "print(y_interp)"
   ]
  },
  {
   "cell_type": "code",
   "execution_count": 15,
   "metadata": {},
   "outputs": [
    {
     "data": {
      "text/plain": [
       "<matplotlib.collections.PathCollection at 0x21416bbbc70>"
      ]
     },
     "execution_count": 15,
     "metadata": {},
     "output_type": "execute_result"
    },
    {
     "data": {
      "image/png": "[encoded data removed]",
      "text/plain": [
       "<Figure size 432x288 with 1 Axes>"
      ]
     },
     "metadata": {
      "needs_background": "light"
     },
     "output_type": "display_data"
    }
   ],
   "source": [
    "plt.scatter(x,y)"
   ]
  },
  {
   "cell_type": "code",
   "execution_count": 16,
   "metadata": {},
   "outputs": [
    {
     "data": {
      "text/plain": [
       "<matplotlib.collections.PathCollection at 0x21416c31760>"
      ]
     },
     "execution_count": 16,
     "metadata": {},
     "output_type": "execute_result"
    },
    {
     "data": {
      "image/png": "[encoded data removed]",
      "text/plain": [
       "<Figure size 432x288 with 1 Axes>"
      ]
     },
     "metadata": {
      "needs_background": "light"
     },
     "output_type": "display_data"
    }
   ],
   "source": [
    "plt.scatter(x_new,y_interp)"
   ]
  },
  {
   "cell_type": "code",
   "execution_count": null,
   "metadata": {},
   "outputs": [],
   "source": []
  }
 ],
 "metadata": {
  "kernelspec": {
   "display_name": "base",
   "language": "python",
   "name": "python3"
  },
  "language_info": {
   "codemirror_mode": {
    "name": "ipython",
    "version": 3
   },
   "file_extension": ".py",
   "mimetype": "text/x-python",
   "name": "python",
   "nbconvert_exporter": "python",
   "pygments_lexer": "ipython3",
   "version": "3.9.12"
  },
  "orig_nbformat": 4
 },
 "nbformat": 4,
 "nbformat_minor": 2
}
